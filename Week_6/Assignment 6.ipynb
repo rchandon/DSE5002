{
 "cells": [
  {
   "cell_type": "markdown",
   "id": "868f20a6",
   "metadata": {},
   "source": [
    "# Assignment 6\n",
    "### Your Name Here\n",
    "### Date"
   ]
  },
  {
   "cell_type": "markdown",
   "id": "6b3cc38d",
   "metadata": {},
   "source": [
    "## Question 1\n",
    "1) import the random library. \n",
    "\n",
    "2) Use `random.seed(10)` to initialize a pseudorandom number generator. \n",
    "\n",
    "3) Create a list of 50 random integers from 0 to 15. Call this list `int_list`.\n",
    "\n",
    "4) Print the 10th and 30th elements of the list. \n",
    "\n",
    "You will need to use list comprehension to do this. The syntax for list comprehension is: <new_list> = `[<expression> for <item> in <iterable>]`. For this question your expression will be a randint generator from the random library and your iterable will be `range()`. Researh the documentation on how to use both functions. "
   ]
  },
  {
   "cell_type": "code",
   "execution_count": 1,
   "id": "7abe6a13",
   "metadata": {},
   "outputs": [
    {
     "name": "stdout",
     "output_type": "stream",
     "text": [
      "[1, 13, 15, 0, 6, 14, 15, 8, 5, 1, 15, 10, 2, 7, 11, 1, 13, 4, 11, 12, 13, 9, 8, 14, 5, 9, 11, 4, 14, 7, 14, 12, 1, 0, 7, 4, 6, 9, 11, 7, 10, 14, 13, 15, 2, 10, 5, 7, 13, 7]\n",
      "1\n",
      "7\n"
     ]
    }
   ],
   "source": [
    "import random as r\n",
    "r.seed(10)\n",
    "random_list = [r.randint(0,15) for counter in range(50)]\n",
    "print(random_list)\n",
    "print(random_list[9])\n",
    "print(random_list[29])\n"
   ]
  },
  {
   "cell_type": "markdown",
   "id": "48d4d289",
   "metadata": {},
   "source": [
    "## Question 2\n",
    "1) import the string library.\n",
    "\n",
    "2) Create the string `az_upper` using `string.ascii_uppercase`. This is a single string of uppercase letters\n",
    "\n",
    "3) Create a list of each individual letter from the string. To do this you will need to iterate over the string and append each letter to the an empty list. Call this list `az_list`. \n",
    "\n",
    "4) Print the list.\n",
    "\n",
    "You will need to use a for-loop for this. The syntax for this for-loop should be: \n",
    "\n",
    "`for i in string>:\n",
    "   <list operation>\n",
    "`"
   ]
  },
  {
   "cell_type": "code",
   "execution_count": 57,
   "id": "e259b56f",
   "metadata": {},
   "outputs": [],
   "source": [
    "# your code here\n"
   ]
  },
  {
   "cell_type": "markdown",
   "id": "5b775542",
   "metadata": {},
   "source": [
    "## Question 3\n",
    "1) Create a set from 1 to 5. Call this `set_1`.\n",
    "\n",
    "2) Create a set from int_list. Call this `set_2`.\n",
    "\n",
    "3) Create a set by finding the `symmetric_difference()` of `set_1` and `set_2`. Call this `set_3`.\n",
    "\n",
    "4) What is the length of all three sets?\n",
    "\n"
   ]
  },
  {
   "cell_type": "code",
   "execution_count": 58,
   "id": "4300df51",
   "metadata": {},
   "outputs": [],
   "source": [
    "# your code here\n"
   ]
  },
  {
   "cell_type": "markdown",
   "id": "7cd5e698",
   "metadata": {},
   "source": [
    "## Question 4\n",
    "1) Import default dict and set the default value to 'Not Present'. Call this dict_1.\n",
    "\n",
    "2) Add `int_list`, `set_2`, and `set_3` to `dict_1` using the object names as the key names. \n",
    "\n",
    "3) Create a new dictionary, `dict_2`, using curly bracket notation with `set_1` and `az_list` as the keys and values. \n",
    "\n",
    "4) Invoke the default value of `dict_1` by trying to access the key `az_list`. Create a new set named `set_4` from the value of `dict_1['az_list']`. What is the lenght of the difference between `dict_2['az_list']` and `set_4'?\n",
    "\n",
    "5) Update `dict_2` with `dict_1`. Print the value of the key `az_list` from `dict_2`. What happened?\n",
    "\n",
    "\n",
    "\n",
    "\n"
   ]
  },
  {
   "cell_type": "code",
   "execution_count": 48,
   "id": "6c85d4be",
   "metadata": {},
   "outputs": [],
   "source": [
    "# your code here\n"
   ]
  }
 ],
 "metadata": {
  "kernelspec": {
   "display_name": "Python 3 (ipykernel)",
   "language": "python",
   "name": "python3"
  },
  "language_info": {
   "codemirror_mode": {
    "name": "ipython",
    "version": 3
   },
   "file_extension": ".py",
   "mimetype": "text/x-python",
   "name": "python",
   "nbconvert_exporter": "python",
   "pygments_lexer": "ipython3",
   "version": "3.9.15"
  }
 },
 "nbformat": 4,
 "nbformat_minor": 5
}
