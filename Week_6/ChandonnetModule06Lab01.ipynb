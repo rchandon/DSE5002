{
 "cells": [
  {
   "cell_type": "markdown",
   "id": "868f20a6",
   "metadata": {},
   "source": [
    "# Assignment 6\n",
    "### Ray Chandonnet\n",
    "### 12/4/2022"
   ]
  },
  {
   "cell_type": "markdown",
   "id": "6b3cc38d",
   "metadata": {},
   "source": [
    "## Question 1\n",
    "1) import the random library. \n",
    "\n",
    "2) Use `random.seed(10)` to initialize a pseudorandom number generator. \n",
    "\n",
    "3) Create a list of 50 random integers from 0 to 15. Call this list `int_list`.\n",
    "\n",
    "4) Print the 10th and 30th elements of the list. \n",
    "\n",
    "You will need to use list comprehension to do this. The syntax for list comprehension is: <new_list> = `[<expression> for <item> in <iterable>]`. For this question your expression will be a randint generator from the random library and your iterable will be `range()`. Researh the documentation on how to use both functions. "
   ]
  },
  {
   "cell_type": "code",
   "execution_count": 1,
   "id": "7abe6a13",
   "metadata": {},
   "outputs": [
    {
     "name": "stdout",
     "output_type": "stream",
     "text": [
      "The entire list is : [1, 13, 15, 0, 6, 14, 15, 8, 5, 1, 15, 10, 2, 7, 11, 1, 13, 4, 11, 12, 13, 9, 8, 14, 5, 9, 11, 4, 14, 7, 14, 12, 1, 0, 7, 4, 6, 9, 11, 7, 10, 14, 13, 15, 2, 10, 5, 7, 13, 7]\n",
      "The 10th element is :  1\n",
      "The 29th element is :  7\n"
     ]
    }
   ],
   "source": [
    "# Problem 1\n",
    "import random as r\n",
    "r.seed(10)\n",
    "int_list = [r.randint(0,15) for counter in range(50)]\n",
    "print(\"The entire list is :\",int_list)\n",
    "print(\"The 10th element is : \", int_list[9])\n",
    "print(\"The 29th element is : \",int_list[29])\n",
    "# Note that since Python uses zero-based indexing, the 10th element is at index #9 and the 30th element is at index #29\n"
   ]
  },
  {
   "cell_type": "markdown",
   "id": "48d4d289",
   "metadata": {},
   "source": [
    "## Question 2\n",
    "1) import the string library.\n",
    "\n",
    "2) Create the string `az_upper` using `string.ascii_uppercase`. This is a single string of uppercase letters\n",
    "\n",
    "3) Create a list of each individual letter from the string. To do this you will need to iterate over the string and append each letter to the an empty list. Call this list `az_list`. \n",
    "\n",
    "4) Print the list.\n",
    "\n",
    "You will need to use a for-loop for this. The syntax for this for-loop should be: \n",
    "\n",
    "`for i in string>:\n",
    "   <list operation>\n",
    "`"
   ]
  },
  {
   "cell_type": "code",
   "execution_count": 2,
   "id": "e259b56f",
   "metadata": {},
   "outputs": [
    {
     "name": "stdout",
     "output_type": "stream",
     "text": [
      "ABCDEFGHIJKLMNOPQRSTUVWXYZ\n",
      "['A', 'B', 'C', 'D', 'E', 'F', 'G', 'H', 'I', 'J', 'K', 'L', 'M', 'N', 'O', 'P', 'Q', 'R', 'S', 'T', 'U', 'V', 'W', 'X', 'Y', 'Z']\n"
     ]
    }
   ],
   "source": [
    "# Problem 2\n",
    "import string as s\n",
    "az_upper = s.ascii_uppercase\n",
    "print(az_upper)\n",
    "az_list=[]\n",
    "for counter in az_upper:\n",
    "    az_list.append(counter)\n",
    "print(az_list)\n"
   ]
  },
  {
   "cell_type": "markdown",
   "id": "5b775542",
   "metadata": {},
   "source": [
    "## Question 3\n",
    "1) Create a set from 1 to 5. Call this `set_1`.\n",
    "\n",
    "2) Create a set from int_list. Call this `set_2`.\n",
    "\n",
    "3) Create a set by finding the `symmetric_difference()` of `set_1` and `set_2`. Call this `set_3`.\n",
    "\n",
    "4) What is the length of all three sets?\n",
    "\n"
   ]
  },
  {
   "cell_type": "code",
   "execution_count": 3,
   "id": "4300df51",
   "metadata": {},
   "outputs": [
    {
     "name": "stdout",
     "output_type": "stream",
     "text": [
      "Set_1: {1, 2, 3, 4, 5}\n",
      "Set_2: {0, 1, 2, 4, 5, 6, 7, 8, 9, 10, 11, 12, 13, 14, 15}\n",
      "Set_3: {0, 3, 6, 7, 8, 9, 10, 11, 12, 13, 14, 15}\n",
      "Set 1 has 5 elements\n",
      "Set 2 has 15 elements\n",
      "Set 3, the symmetric_difference set, has 12 elements\n",
      "For my own comprehension - that is the number of unique elements that do NOT appear in both sets (opposite of\n",
      "intersection)\n",
      "Set 4, the intersection set, has 4 elements\n",
      "There are a total of 20 elements in the two sets\n",
      "4 of those elements appear both times =  8 instances\n",
      "12 of those elements only appear once =  12 instances\n",
      "Added together, they equate to the total # of elements: 20 = 20\n"
     ]
    }
   ],
   "source": [
    "set_1=set(range(1,6))\n",
    "print(\"Set_1:\",set_1)\n",
    "set_2=set(int_list)\n",
    "print(\"Set_2:\",set_2)\n",
    "set_3 = set_1.symmetric_difference(set_2)\n",
    "print(\"Set_3:\",set_3)\n",
    "len_1=len(set_1)\n",
    "len_2=len(set_2)\n",
    "len_3=len(set_3)\n",
    "print(\"Set 1 has\",len_1,\"elements\")\n",
    "print(\"Set 2 has\",len_2,\"elements\")\n",
    "print(\"Set 3, the symmetric_difference set, has\",len_3,\"elements\")\n",
    "print(\"For my own comprehension - that is the number of unique elements that do NOT appear in both sets (opposite of\")\n",
    "print(\"intersection)\")\n",
    "set_4 = set_1.intersection(set_2)\n",
    "len_4=len(set_4)\n",
    "print(\"Set 4, the intersection set, has\",len_4,\"elements\")\n",
    "tot_elements=len_1+len_2\n",
    "print(\"There are a total of\",tot_elements,\"elements in the two sets\")\n",
    "print(len_4,\"of those elements appear both times = \",len_4*2,\"instances\")\n",
    "print(len_3,\"of those elements only appear once = \",len_3,\"instances\")\n",
    "print(\"Added together, they equate to the total # of elements:\", tot_elements,\"=\",len_4*2+len_3)\n"
   ]
  },
  {
   "cell_type": "markdown",
   "id": "7cd5e698",
   "metadata": {},
   "source": [
    "## Question 4\n",
    "1) Import default dict and set the default value to 'Not Present'. Call this dict_1.\n",
    "\n",
    "2) Add `int_list`, `set_2`, and `set_3` to `dict_1` using the object names as the key names. \n",
    "\n",
    "3) Create a new dictionary, `dict_2`, using curly bracket notation with `set_1` and `az_list` as the keys and values. \n",
    "\n",
    "4) Invoke the default value of `dict_1` by trying to access the key `az_list`. Create a new set named `set_4` from the value of `dict_1['az_list']`. What is the lenght of the difference between `dict_2['az_list']` and `set_4'?\n",
    "\n",
    "5) Update `dict_2` with `dict_1`. Print the value of the key `az_list` from `dict_2`. What happened?\n",
    "\n",
    "\n",
    "\n",
    "\n"
   ]
  },
  {
   "cell_type": "code",
   "execution_count": 5,
   "id": "6c85d4be",
   "metadata": {},
   "outputs": [
    {
     "name": "stdout",
     "output_type": "stream",
     "text": [
      "Dictionary 1: defaultdict(<function def_value at 0x7fd758a2c820>, {'int_list': [1, 13, 15, 0, 6, 14, 15, 8, 5, 1, 15, 10, 2, 7, 11, 1, 13, 4, 11, 12, 13, 9, 8, 14, 5, 9, 11, 4, 14, 7, 14, 12, 1, 0, 7, 4, 6, 9, 11, 7, 10, 14, 13, 15, 2, 10, 5, 7, 13, 7], 'set_2': {0, 1, 2, 4, 5, 6, 7, 8, 9, 10, 11, 12, 13, 14, 15}, 'set_3': {0, 3, 6, 7, 8, 9, 10, 11, 12, 13, 14, 15}})\n",
      "Not Present\n",
      "Dictionary 2: {'set_1': {1, 2, 3, 4, 5}, 'az_list': ['A', 'B', 'C', 'D', 'E', 'F', 'G', 'H', 'I', 'J', 'K', 'L', 'M', 'N', 'O', 'P', 'Q', 'R', 'S', 'T', 'U', 'V', 'W', 'X', 'Y', 'Z']}\n",
      "Set 4: {'t', 'r', ' ', 'n', 'o', 'e', 's', 'P', 'N'}\n",
      "Since 'az_list' is not a key in dict_1, this just took the default value 'Not Present' and turned it into a set by letter!\n",
      "The length of the difference between dict_2['az_list'] and dict_2 is 31 elements\n",
      "Not Present\n",
      "It appears that when the dictionary was updated with the contents of dict_1, the value for key 'az_list',\n",
      "which used to be our list of capital letters, was replaced with 'Not Present' which is the default value.\n",
      "Even after researching, it is unclear to me why!\n"
     ]
    }
   ],
   "source": [
    "#Problem 4\n",
    "from collections import defaultdict\n",
    "def def_value():\n",
    "    return \"Not Present\"\n",
    "dict_1 = defaultdict(def_value)\n",
    "dict_1[\"int_list\"]=int_list\n",
    "dict_1[\"set_2\"]=set_2\n",
    "dict_1[\"set_3\"]=set_3\n",
    "print(\"Dictionary 1:\",dict_1)\n",
    "print(dict_1['az_list'])\n",
    "dict_2=defaultdict(def_value)\n",
    "dict_2 = {\"set_1\":set_1,\"az_list\":az_list}\n",
    "print(\"Dictionary 2:\",dict_2)\n",
    "set_4=set(dict_1['az_list'])\n",
    "print(\"Set 4:\", set_4)\n",
    "print(\"Since 'az_list' is not a key in dict_1, this just took the default value 'Not Present' and turned it into a set by letter!\")\n",
    "set_diff=set(dict_2['az_list']).symmetric_difference(set_4)\n",
    "print(\"The length of the difference between dict_2['az_list'] and dict_2 is\", len(set_diff),\"elements\")\n",
    "dict_2.update(dict_1)\n",
    "print(dict_2['az_list'])\n",
    "print(\"It appears that when the dictionary was updated with the contents of dict_1, the value for key 'az_list',\")\n",
    "print(\"which used to be our list of capital letters, was replaced with 'Not Present' which is the default value.\")\n",
    "print(\"Even after researching, it is unclear to me why!\")"
   ]
  },
  {
   "cell_type": "code",
   "execution_count": null,
   "id": "9bbc5847",
   "metadata": {},
   "outputs": [],
   "source": []
  }
 ],
 "metadata": {
  "kernelspec": {
   "display_name": "Python 3 (ipykernel)",
   "language": "python",
   "name": "python3"
  },
  "language_info": {
   "codemirror_mode": {
    "name": "ipython",
    "version": 3
   },
   "file_extension": ".py",
   "mimetype": "text/x-python",
   "name": "python",
   "nbconvert_exporter": "python",
   "pygments_lexer": "ipython3",
   "version": "3.9.15"
  }
 },
 "nbformat": 4,
 "nbformat_minor": 5
}
